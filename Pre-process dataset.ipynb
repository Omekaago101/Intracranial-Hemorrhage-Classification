{
 "cells": [
  {
   "cell_type": "code",
   "execution_count": 1,
   "source": [
    "import cv2\r\n",
    "import gc\r\n",
    "import matplotlib.pyplot as plt\r\n",
    "import numpy as np\r\n",
    "import os\r\n",
    "import pandas as pd\r\n",
    "import pydicom\r\n",
    "from sklearn.model_selection import StratifiedKFold\r\n",
    "from tqdm import tqdm_notebook"
   ],
   "outputs": [],
   "metadata": {}
  },
  {
   "cell_type": "code",
   "execution_count": 53,
   "source": [
    "train_data_dir = 'H:/Datasets/'\r\n",
    "data_dir = \"D:/Datasets/rsna/\"\r\n",
    "meta_data_train_dir = data_dir + \"metadata/train/\"\r\n",
    "meta_data_test_dir = data_dir + \"metadata/valid/\""
   ],
   "outputs": [],
   "metadata": {}
  },
  {
   "cell_type": "code",
   "execution_count": 71,
   "source": [
    "train_mtd = pd.read_csv(os.path.join(data_dir,\"train_metadata.csv\"))"
   ],
   "outputs": [],
   "metadata": {}
  },
  {
   "cell_type": "code",
   "execution_count": 72,
   "source": [
    "valid_fold1 = train_mtd[train_mtd['fold']==4].reset_index(drop=True)\r\n",
    "train_1_3 = train_mtd[train_mtd['fold']!=4].reset_index(drop=True)"
   ],
   "outputs": [],
   "metadata": {}
  },
  {
   "cell_type": "code",
   "execution_count": 73,
   "source": [
    "train_df_13 = train_1_3.drop_duplicates(subset=['StudyInstanceUID'],inplace=True)\r\n",
    "valid_df0 = valid_fold0.drop_duplicates(subset=['StudyInstanceUID'],inplace=True)"
   ],
   "outputs": [],
   "metadata": {}
  },
  {
   "cell_type": "code",
   "execution_count": 74,
   "source": [
    "train_1_3.to_csv(os.path.join(data_dir, meta_data_train_dir,\"train_minus_fold4.csv\"))\r\n",
    "valid_fold0.to_csv(os.path.join(data_dir, meta_data_test_dir,\"valid_fold4.csv\"))"
   ],
   "outputs": [],
   "metadata": {}
  },
  {
   "cell_type": "code",
   "execution_count": null,
   "source": [],
   "outputs": [],
   "metadata": {}
  },
  {
   "cell_type": "code",
   "execution_count": 10,
   "source": [
    "valid_fold0_u = valid_fold0[\"StudyInstanceUID\"].drop"
   ],
   "outputs": [],
   "metadata": {}
  },
  {
   "cell_type": "code",
   "execution_count": 13,
   "source": [
    "len(valid_fold0_u)"
   ],
   "outputs": [
    {
     "output_type": "execute_result",
     "data": {
      "text/plain": [
       "4373"
      ]
     },
     "metadata": {},
     "execution_count": 13
    }
   ],
   "metadata": {}
  },
  {
   "cell_type": "code",
   "execution_count": 25,
   "source": [
    "train_1_3 = train_mtd[train_mtd['fold']!=0].reset_index(drop=True)"
   ],
   "outputs": [],
   "metadata": {}
  },
  {
   "cell_type": "code",
   "execution_count": 26,
   "source": [
    "len(train_1_3)"
   ],
   "outputs": [
    {
     "output_type": "execute_result",
     "data": {
      "text/plain": [
       "601443"
      ]
     },
     "metadata": {},
     "execution_count": 26
    }
   ],
   "metadata": {}
  },
  {
   "cell_type": "code",
   "execution_count": 27,
   "source": [
    "train_df_13 = train_1_3.drop_duplicates(subset=['StudyInstanceUID'],inplace=True)"
   ],
   "outputs": [],
   "metadata": {}
  },
  {
   "cell_type": "code",
   "execution_count": 31,
   "source": [
    "len(train_1_3['StudyInstanceUID'].unique())"
   ],
   "outputs": [
    {
     "output_type": "execute_result",
     "data": {
      "text/plain": [
       "17371"
      ]
     },
     "metadata": {},
     "execution_count": 31
    }
   ],
   "metadata": {}
  },
  {
   "cell_type": "code",
   "execution_count": 30,
   "source": [],
   "outputs": [
    {
     "output_type": "execute_result",
     "data": {
      "text/plain": [
       "               image  any  epidural  intraparenchymal  intraventricular  \\\n",
       "0       ID_1b804da9a    0         0                 0                 0   \n",
       "28      ID_47cb66839    0         0                 0                 0   \n",
       "64      ID_37292c56f    0         0                 0                 0   \n",
       "100     ID_9328f5127    0         0                 0                 0   \n",
       "137     ID_d8e20e949    0         0                 0                 0   \n",
       "...              ...  ...       ...               ...               ...   \n",
       "601263  ID_b5429c663    0         0                 0                 0   \n",
       "601296  ID_31b14de96    0         0                 0                 0   \n",
       "601336  ID_c6f9f68c9    0         0                 0                 0   \n",
       "601376  ID_138d275c8    0         0                 0                 0   \n",
       "601407  ID_45785016b    0         0                 0                 0   \n",
       "\n",
       "        subarachnoid  subdural  ImagePositionPatient_2    PatientID  \\\n",
       "0                  0         0               30.645344  ID_fffc2bd6   \n",
       "28                 0         0              -20.603000  ID_fff502d5   \n",
       "64                 0         0               -2.500000  ID_fff140ff   \n",
       "100                0         0              874.299988  ID_ffedaf23   \n",
       "137                0         0               47.726818  ID_ffeabb7c   \n",
       "...              ...       ...                     ...          ...   \n",
       "601263             0         0               82.599976  ID_000e5623   \n",
       "601296             0         0               32.955000  ID_00086119   \n",
       "601336             0         0               38.171000  ID_0006d192   \n",
       "601376             0         0               71.900024  ID_00054f3f   \n",
       "601407             0         0               35.968000  ID_0002cd41   \n",
       "\n",
       "       StudyInstanceUID  WindowCenter  WindowWidth  fold  \n",
       "0         ID_dbf89aa342            30           80     3  \n",
       "28        ID_f10de2d018            40          150     2  \n",
       "64        ID_33b54f267c            35          135     4  \n",
       "100       ID_76a555900b            36           80     1  \n",
       "137       ID_c73e7b76c3            30           80     1  \n",
       "...                 ...           ...          ...   ...  \n",
       "601263    ID_bd2fd686ee            36           80     1  \n",
       "601296    ID_fdde2979b0            30           80     1  \n",
       "601336    ID_25690b4725            40          150     3  \n",
       "601376    ID_8a449ae31b            36           80     1  \n",
       "601407    ID_66929e09d4            30           80     4  \n",
       "\n",
       "[17371 rows x 13 columns]"
      ],
      "text/html": [
       "<div>\n",
       "<style scoped>\n",
       "    .dataframe tbody tr th:only-of-type {\n",
       "        vertical-align: middle;\n",
       "    }\n",
       "\n",
       "    .dataframe tbody tr th {\n",
       "        vertical-align: top;\n",
       "    }\n",
       "\n",
       "    .dataframe thead th {\n",
       "        text-align: right;\n",
       "    }\n",
       "</style>\n",
       "<table border=\"1\" class=\"dataframe\">\n",
       "  <thead>\n",
       "    <tr style=\"text-align: right;\">\n",
       "      <th></th>\n",
       "      <th>image</th>\n",
       "      <th>any</th>\n",
       "      <th>epidural</th>\n",
       "      <th>intraparenchymal</th>\n",
       "      <th>intraventricular</th>\n",
       "      <th>subarachnoid</th>\n",
       "      <th>subdural</th>\n",
       "      <th>ImagePositionPatient_2</th>\n",
       "      <th>PatientID</th>\n",
       "      <th>StudyInstanceUID</th>\n",
       "      <th>WindowCenter</th>\n",
       "      <th>WindowWidth</th>\n",
       "      <th>fold</th>\n",
       "    </tr>\n",
       "  </thead>\n",
       "  <tbody>\n",
       "    <tr>\n",
       "      <th>0</th>\n",
       "      <td>ID_1b804da9a</td>\n",
       "      <td>0</td>\n",
       "      <td>0</td>\n",
       "      <td>0</td>\n",
       "      <td>0</td>\n",
       "      <td>0</td>\n",
       "      <td>0</td>\n",
       "      <td>30.645344</td>\n",
       "      <td>ID_fffc2bd6</td>\n",
       "      <td>ID_dbf89aa342</td>\n",
       "      <td>30</td>\n",
       "      <td>80</td>\n",
       "      <td>3</td>\n",
       "    </tr>\n",
       "    <tr>\n",
       "      <th>28</th>\n",
       "      <td>ID_47cb66839</td>\n",
       "      <td>0</td>\n",
       "      <td>0</td>\n",
       "      <td>0</td>\n",
       "      <td>0</td>\n",
       "      <td>0</td>\n",
       "      <td>0</td>\n",
       "      <td>-20.603000</td>\n",
       "      <td>ID_fff502d5</td>\n",
       "      <td>ID_f10de2d018</td>\n",
       "      <td>40</td>\n",
       "      <td>150</td>\n",
       "      <td>2</td>\n",
       "    </tr>\n",
       "    <tr>\n",
       "      <th>64</th>\n",
       "      <td>ID_37292c56f</td>\n",
       "      <td>0</td>\n",
       "      <td>0</td>\n",
       "      <td>0</td>\n",
       "      <td>0</td>\n",
       "      <td>0</td>\n",
       "      <td>0</td>\n",
       "      <td>-2.500000</td>\n",
       "      <td>ID_fff140ff</td>\n",
       "      <td>ID_33b54f267c</td>\n",
       "      <td>35</td>\n",
       "      <td>135</td>\n",
       "      <td>4</td>\n",
       "    </tr>\n",
       "    <tr>\n",
       "      <th>100</th>\n",
       "      <td>ID_9328f5127</td>\n",
       "      <td>0</td>\n",
       "      <td>0</td>\n",
       "      <td>0</td>\n",
       "      <td>0</td>\n",
       "      <td>0</td>\n",
       "      <td>0</td>\n",
       "      <td>874.299988</td>\n",
       "      <td>ID_ffedaf23</td>\n",
       "      <td>ID_76a555900b</td>\n",
       "      <td>36</td>\n",
       "      <td>80</td>\n",
       "      <td>1</td>\n",
       "    </tr>\n",
       "    <tr>\n",
       "      <th>137</th>\n",
       "      <td>ID_d8e20e949</td>\n",
       "      <td>0</td>\n",
       "      <td>0</td>\n",
       "      <td>0</td>\n",
       "      <td>0</td>\n",
       "      <td>0</td>\n",
       "      <td>0</td>\n",
       "      <td>47.726818</td>\n",
       "      <td>ID_ffeabb7c</td>\n",
       "      <td>ID_c73e7b76c3</td>\n",
       "      <td>30</td>\n",
       "      <td>80</td>\n",
       "      <td>1</td>\n",
       "    </tr>\n",
       "    <tr>\n",
       "      <th>...</th>\n",
       "      <td>...</td>\n",
       "      <td>...</td>\n",
       "      <td>...</td>\n",
       "      <td>...</td>\n",
       "      <td>...</td>\n",
       "      <td>...</td>\n",
       "      <td>...</td>\n",
       "      <td>...</td>\n",
       "      <td>...</td>\n",
       "      <td>...</td>\n",
       "      <td>...</td>\n",
       "      <td>...</td>\n",
       "      <td>...</td>\n",
       "    </tr>\n",
       "    <tr>\n",
       "      <th>601263</th>\n",
       "      <td>ID_b5429c663</td>\n",
       "      <td>0</td>\n",
       "      <td>0</td>\n",
       "      <td>0</td>\n",
       "      <td>0</td>\n",
       "      <td>0</td>\n",
       "      <td>0</td>\n",
       "      <td>82.599976</td>\n",
       "      <td>ID_000e5623</td>\n",
       "      <td>ID_bd2fd686ee</td>\n",
       "      <td>36</td>\n",
       "      <td>80</td>\n",
       "      <td>1</td>\n",
       "    </tr>\n",
       "    <tr>\n",
       "      <th>601296</th>\n",
       "      <td>ID_31b14de96</td>\n",
       "      <td>0</td>\n",
       "      <td>0</td>\n",
       "      <td>0</td>\n",
       "      <td>0</td>\n",
       "      <td>0</td>\n",
       "      <td>0</td>\n",
       "      <td>32.955000</td>\n",
       "      <td>ID_00086119</td>\n",
       "      <td>ID_fdde2979b0</td>\n",
       "      <td>30</td>\n",
       "      <td>80</td>\n",
       "      <td>1</td>\n",
       "    </tr>\n",
       "    <tr>\n",
       "      <th>601336</th>\n",
       "      <td>ID_c6f9f68c9</td>\n",
       "      <td>0</td>\n",
       "      <td>0</td>\n",
       "      <td>0</td>\n",
       "      <td>0</td>\n",
       "      <td>0</td>\n",
       "      <td>0</td>\n",
       "      <td>38.171000</td>\n",
       "      <td>ID_0006d192</td>\n",
       "      <td>ID_25690b4725</td>\n",
       "      <td>40</td>\n",
       "      <td>150</td>\n",
       "      <td>3</td>\n",
       "    </tr>\n",
       "    <tr>\n",
       "      <th>601376</th>\n",
       "      <td>ID_138d275c8</td>\n",
       "      <td>0</td>\n",
       "      <td>0</td>\n",
       "      <td>0</td>\n",
       "      <td>0</td>\n",
       "      <td>0</td>\n",
       "      <td>0</td>\n",
       "      <td>71.900024</td>\n",
       "      <td>ID_00054f3f</td>\n",
       "      <td>ID_8a449ae31b</td>\n",
       "      <td>36</td>\n",
       "      <td>80</td>\n",
       "      <td>1</td>\n",
       "    </tr>\n",
       "    <tr>\n",
       "      <th>601407</th>\n",
       "      <td>ID_45785016b</td>\n",
       "      <td>0</td>\n",
       "      <td>0</td>\n",
       "      <td>0</td>\n",
       "      <td>0</td>\n",
       "      <td>0</td>\n",
       "      <td>0</td>\n",
       "      <td>35.968000</td>\n",
       "      <td>ID_0002cd41</td>\n",
       "      <td>ID_66929e09d4</td>\n",
       "      <td>30</td>\n",
       "      <td>80</td>\n",
       "      <td>4</td>\n",
       "    </tr>\n",
       "  </tbody>\n",
       "</table>\n",
       "<p>17371 rows × 13 columns</p>\n",
       "</div>"
      ]
     },
     "metadata": {},
     "execution_count": 30
    }
   ],
   "metadata": {}
  },
  {
   "cell_type": "code",
   "execution_count": 3,
   "source": [
    "dropped_cols = ['BitsAllocated', 'BitsStored',\r\n",
    "       'Columns', 'HighBit', 'ImageOrientationPatient_0',\r\n",
    "       'ImageOrientationPatient_1', 'ImageOrientationPatient_2',\r\n",
    "       'ImageOrientationPatient_3', 'ImageOrientationPatient_4',\r\n",
    "       'ImageOrientationPatient_5', 'ImagePositionPatient_0',\r\n",
    "       'ImagePositionPatient_1', 'Modality',\r\n",
    "       'PhotometricInterpretation', 'PixelRepresentation',\r\n",
    "       'PixelSpacing_0', 'PixelSpacing_1', 'RescaleIntercept', 'RescaleSlope',\r\n",
    "       'Rows', 'SOPInstanceUID', 'SamplesPerPixel', 'SeriesInstanceUID',\r\n",
    "       'StudyID',]"
   ],
   "outputs": [],
   "metadata": {}
  },
  {
   "cell_type": "markdown",
   "source": [
    "## Prepare the labels & metadata"
   ],
   "metadata": {}
  },
  {
   "cell_type": "code",
   "execution_count": 4,
   "source": [
    "def get_metadata(image_dir):\r\n",
    "\r\n",
    "    labels = [\r\n",
    "        'BitsAllocated', 'BitsStored', 'Columns', 'HighBit', \r\n",
    "        'ImageOrientationPatient_0', 'ImageOrientationPatient_1', 'ImageOrientationPatient_2',\r\n",
    "        'ImageOrientationPatient_3', 'ImageOrientationPatient_4', 'ImageOrientationPatient_5',\r\n",
    "        'ImagePositionPatient_0', 'ImagePositionPatient_1', 'ImagePositionPatient_2',\r\n",
    "        'Modality', 'PatientID', 'PhotometricInterpretation', 'PixelRepresentation',\r\n",
    "        'PixelSpacing_0', 'PixelSpacing_1', 'RescaleIntercept', 'RescaleSlope', 'Rows', 'SOPInstanceUID',\r\n",
    "        'SamplesPerPixel', 'SeriesInstanceUID', 'StudyID', 'StudyInstanceUID', \r\n",
    "        'WindowCenter', 'WindowWidth', 'Image',\r\n",
    "    ]\r\n",
    "\r\n",
    "    data = {l: [] for l in labels}\r\n",
    "\r\n",
    "    for image in tqdm_notebook(os.listdir(image_dir)):\r\n",
    "        data[\"Image\"].append(image[:-4])\r\n",
    "        try:\r\n",
    "            ds = pydicom.dcmread(os.path.join(image_dir, image))\r\n",
    "\r\n",
    "            for metadata in ds.dir():\r\n",
    "                if metadata != \"PixelData\":\r\n",
    "                    metadata_values = getattr(ds, metadata)\r\n",
    "                    if type(metadata_values) == pydicom.multival.MultiValue and metadata not in [\"WindowCenter\", \"WindowWidth\"]:\r\n",
    "                        for i, v in enumerate(metadata_values):\r\n",
    "                            data[f\"{metadata}_{i}\"].append(v)\r\n",
    "                    else:\r\n",
    "                        if type(metadata_values) == pydicom.multival.MultiValue and metadata in [\"WindowCenter\", \"WindowWidth\"]:\r\n",
    "                            data[metadata].append(metadata_values[0])\r\n",
    "                        else:\r\n",
    "                            data[metadata].append(metadata_values)\r\n",
    "        except:\r\n",
    "            print(image)\r\n",
    "            continue\r\n",
    "    return pd.DataFrame(data).set_index(\"Image\")"
   ],
   "outputs": [],
   "metadata": {}
  },
  {
   "cell_type": "code",
   "execution_count": 5,
   "source": [
    "# Generate metadata dataframes\r\n",
    "train_metadata = get_metadata(os.path.join(data_dir, \"stage_2_train\"))\r\n",
    "test_metadata = get_metadata(os.path.join(data_dir, \"stage_2_test\"))\r\n"
   ],
   "outputs": [
    {
     "output_type": "stream",
     "name": "stderr",
     "text": [
      "<ipython-input-4-32eeaeee22c6>:16: TqdmDeprecationWarning: This function will be removed in tqdm==5.0.0\n",
      "Please use `tqdm.notebook.tqdm` instead of `tqdm.tqdm_notebook`\n",
      "  for image in tqdm_notebook(os.listdir(image_dir)):\n"
     ]
    },
    {
     "output_type": "display_data",
     "data": {
      "text/plain": [
       "  0%|          | 0/752803 [00:00<?, ?it/s]"
      ],
      "application/vnd.jupyter.widget-view+json": {
       "version_major": 2,
       "version_minor": 0,
       "model_id": "9d2362523dc24f8d9f1f8dfe83897ef9"
      }
     },
     "metadata": {}
    },
    {
     "output_type": "display_data",
     "data": {
      "text/plain": [
       "  0%|          | 0/121232 [00:00<?, ?it/s]"
      ],
      "application/vnd.jupyter.widget-view+json": {
       "version_major": 2,
       "version_minor": 0,
       "model_id": "2037cc47b7384a6b8a2125d8f621b180"
      }
     },
     "metadata": {}
    },
    {
     "output_type": "error",
     "ename": "FileNotFoundError",
     "evalue": "[Errno 2] No such file or directory: 'D:/Datasets/rsna1/gz//train_metadata.parquet.gzip'",
     "traceback": [
      "\u001b[1;31m---------------------------------------------------------------------------\u001b[0m",
      "\u001b[1;31mFileNotFoundError\u001b[0m                         Traceback (most recent call last)",
      "\u001b[1;32m<ipython-input-5-521e6d05f994>\u001b[0m in \u001b[0;36m<module>\u001b[1;34m\u001b[0m\n\u001b[0;32m      3\u001b[0m \u001b[0mtest_metadata\u001b[0m \u001b[1;33m=\u001b[0m \u001b[0mget_metadata\u001b[0m\u001b[1;33m(\u001b[0m\u001b[0mos\u001b[0m\u001b[1;33m.\u001b[0m\u001b[0mpath\u001b[0m\u001b[1;33m.\u001b[0m\u001b[0mjoin\u001b[0m\u001b[1;33m(\u001b[0m\u001b[0mdata_dir\u001b[0m\u001b[1;33m,\u001b[0m \u001b[1;34m\"stage_2_test\"\u001b[0m\u001b[1;33m)\u001b[0m\u001b[1;33m)\u001b[0m\u001b[1;33m\u001b[0m\u001b[1;33m\u001b[0m\u001b[0m\n\u001b[0;32m      4\u001b[0m \u001b[1;33m\u001b[0m\u001b[0m\n\u001b[1;32m----> 5\u001b[1;33m \u001b[0mtrain_metadata\u001b[0m\u001b[1;33m.\u001b[0m\u001b[0mto_parquet\u001b[0m\u001b[1;33m(\u001b[0m\u001b[1;34mf'{meta_data_dir}/train_metadata.parquet.gzip'\u001b[0m\u001b[1;33m,\u001b[0m \u001b[0mcompression\u001b[0m\u001b[1;33m=\u001b[0m\u001b[1;34m'gzip'\u001b[0m\u001b[1;33m)\u001b[0m\u001b[1;33m\u001b[0m\u001b[1;33m\u001b[0m\u001b[0m\n\u001b[0m\u001b[0;32m      6\u001b[0m \u001b[0mtest_metadata\u001b[0m\u001b[1;33m.\u001b[0m\u001b[0mto_parquet\u001b[0m\u001b[1;33m(\u001b[0m\u001b[1;34mf'{meta_data_dir}/test_metadata.parquet.gzip'\u001b[0m\u001b[1;33m,\u001b[0m \u001b[0mcompression\u001b[0m\u001b[1;33m=\u001b[0m\u001b[1;34m'gzip'\u001b[0m\u001b[1;33m)\u001b[0m\u001b[1;33m\u001b[0m\u001b[1;33m\u001b[0m\u001b[0m\n",
      "\u001b[1;32m~\\.conda\\envs\\daddo_11\\lib\\site-packages\\pandas\\util\\_decorators.py\u001b[0m in \u001b[0;36mwrapper\u001b[1;34m(*args, **kwargs)\u001b[0m\n\u001b[0;32m    205\u001b[0m                 \u001b[1;32melse\u001b[0m\u001b[1;33m:\u001b[0m\u001b[1;33m\u001b[0m\u001b[1;33m\u001b[0m\u001b[0m\n\u001b[0;32m    206\u001b[0m                     \u001b[0mkwargs\u001b[0m\u001b[1;33m[\u001b[0m\u001b[0mnew_arg_name\u001b[0m\u001b[1;33m]\u001b[0m \u001b[1;33m=\u001b[0m \u001b[0mnew_arg_value\u001b[0m\u001b[1;33m\u001b[0m\u001b[1;33m\u001b[0m\u001b[0m\n\u001b[1;32m--> 207\u001b[1;33m             \u001b[1;32mreturn\u001b[0m \u001b[0mfunc\u001b[0m\u001b[1;33m(\u001b[0m\u001b[1;33m*\u001b[0m\u001b[0margs\u001b[0m\u001b[1;33m,\u001b[0m \u001b[1;33m**\u001b[0m\u001b[0mkwargs\u001b[0m\u001b[1;33m)\u001b[0m\u001b[1;33m\u001b[0m\u001b[1;33m\u001b[0m\u001b[0m\n\u001b[0m\u001b[0;32m    208\u001b[0m \u001b[1;33m\u001b[0m\u001b[0m\n\u001b[0;32m    209\u001b[0m         \u001b[1;32mreturn\u001b[0m \u001b[0mcast\u001b[0m\u001b[1;33m(\u001b[0m\u001b[0mF\u001b[0m\u001b[1;33m,\u001b[0m \u001b[0mwrapper\u001b[0m\u001b[1;33m)\u001b[0m\u001b[1;33m\u001b[0m\u001b[1;33m\u001b[0m\u001b[0m\n",
      "\u001b[1;32m~\\.conda\\envs\\daddo_11\\lib\\site-packages\\pandas\\core\\frame.py\u001b[0m in \u001b[0;36mto_parquet\u001b[1;34m(self, path, engine, compression, index, partition_cols, storage_options, **kwargs)\u001b[0m\n\u001b[0;32m   2675\u001b[0m         \u001b[1;32mfrom\u001b[0m \u001b[0mpandas\u001b[0m\u001b[1;33m.\u001b[0m\u001b[0mio\u001b[0m\u001b[1;33m.\u001b[0m\u001b[0mparquet\u001b[0m \u001b[1;32mimport\u001b[0m \u001b[0mto_parquet\u001b[0m\u001b[1;33m\u001b[0m\u001b[1;33m\u001b[0m\u001b[0m\n\u001b[0;32m   2676\u001b[0m \u001b[1;33m\u001b[0m\u001b[0m\n\u001b[1;32m-> 2677\u001b[1;33m         return to_parquet(\n\u001b[0m\u001b[0;32m   2678\u001b[0m             \u001b[0mself\u001b[0m\u001b[1;33m,\u001b[0m\u001b[1;33m\u001b[0m\u001b[1;33m\u001b[0m\u001b[0m\n\u001b[0;32m   2679\u001b[0m             \u001b[0mpath\u001b[0m\u001b[1;33m,\u001b[0m\u001b[1;33m\u001b[0m\u001b[1;33m\u001b[0m\u001b[0m\n",
      "\u001b[1;32m~\\.conda\\envs\\daddo_11\\lib\\site-packages\\pandas\\io\\parquet.py\u001b[0m in \u001b[0;36mto_parquet\u001b[1;34m(df, path, engine, compression, index, storage_options, partition_cols, **kwargs)\u001b[0m\n\u001b[0;32m    410\u001b[0m     \u001b[0mpath_or_buf\u001b[0m\u001b[1;33m:\u001b[0m \u001b[0mFilePathOrBuffer\u001b[0m \u001b[1;33m=\u001b[0m \u001b[0mio\u001b[0m\u001b[1;33m.\u001b[0m\u001b[0mBytesIO\u001b[0m\u001b[1;33m(\u001b[0m\u001b[1;33m)\u001b[0m \u001b[1;32mif\u001b[0m \u001b[0mpath\u001b[0m \u001b[1;32mis\u001b[0m \u001b[1;32mNone\u001b[0m \u001b[1;32melse\u001b[0m \u001b[0mpath\u001b[0m\u001b[1;33m\u001b[0m\u001b[1;33m\u001b[0m\u001b[0m\n\u001b[0;32m    411\u001b[0m \u001b[1;33m\u001b[0m\u001b[0m\n\u001b[1;32m--> 412\u001b[1;33m     impl.write(\n\u001b[0m\u001b[0;32m    413\u001b[0m         \u001b[0mdf\u001b[0m\u001b[1;33m,\u001b[0m\u001b[1;33m\u001b[0m\u001b[1;33m\u001b[0m\u001b[0m\n\u001b[0;32m    414\u001b[0m         \u001b[0mpath_or_buf\u001b[0m\u001b[1;33m,\u001b[0m\u001b[1;33m\u001b[0m\u001b[1;33m\u001b[0m\u001b[0m\n",
      "\u001b[1;32m~\\.conda\\envs\\daddo_11\\lib\\site-packages\\pandas\\io\\parquet.py\u001b[0m in \u001b[0;36mwrite\u001b[1;34m(self, df, path, compression, index, storage_options, partition_cols, **kwargs)\u001b[0m\n\u001b[0;32m    173\u001b[0m         \u001b[0mtable\u001b[0m \u001b[1;33m=\u001b[0m \u001b[0mself\u001b[0m\u001b[1;33m.\u001b[0m\u001b[0mapi\u001b[0m\u001b[1;33m.\u001b[0m\u001b[0mTable\u001b[0m\u001b[1;33m.\u001b[0m\u001b[0mfrom_pandas\u001b[0m\u001b[1;33m(\u001b[0m\u001b[0mdf\u001b[0m\u001b[1;33m,\u001b[0m \u001b[1;33m**\u001b[0m\u001b[0mfrom_pandas_kwargs\u001b[0m\u001b[1;33m)\u001b[0m\u001b[1;33m\u001b[0m\u001b[1;33m\u001b[0m\u001b[0m\n\u001b[0;32m    174\u001b[0m \u001b[1;33m\u001b[0m\u001b[0m\n\u001b[1;32m--> 175\u001b[1;33m         path_or_handle, handles, kwargs[\"filesystem\"] = _get_path_or_handle(\n\u001b[0m\u001b[0;32m    176\u001b[0m             \u001b[0mpath\u001b[0m\u001b[1;33m,\u001b[0m\u001b[1;33m\u001b[0m\u001b[1;33m\u001b[0m\u001b[0m\n\u001b[0;32m    177\u001b[0m             \u001b[0mkwargs\u001b[0m\u001b[1;33m.\u001b[0m\u001b[0mpop\u001b[0m\u001b[1;33m(\u001b[0m\u001b[1;34m\"filesystem\"\u001b[0m\u001b[1;33m,\u001b[0m \u001b[1;32mNone\u001b[0m\u001b[1;33m)\u001b[0m\u001b[1;33m,\u001b[0m\u001b[1;33m\u001b[0m\u001b[1;33m\u001b[0m\u001b[0m\n",
      "\u001b[1;32m~\\.conda\\envs\\daddo_11\\lib\\site-packages\\pandas\\io\\parquet.py\u001b[0m in \u001b[0;36m_get_path_or_handle\u001b[1;34m(path, fs, storage_options, mode, is_dir)\u001b[0m\n\u001b[0;32m     99\u001b[0m         \u001b[1;31m# fsspec resources can also point to directories\u001b[0m\u001b[1;33m\u001b[0m\u001b[1;33m\u001b[0m\u001b[1;33m\u001b[0m\u001b[0m\n\u001b[0;32m    100\u001b[0m         \u001b[1;31m# this branch is used for example when reading from non-fsspec URLs\u001b[0m\u001b[1;33m\u001b[0m\u001b[1;33m\u001b[0m\u001b[1;33m\u001b[0m\u001b[0m\n\u001b[1;32m--> 101\u001b[1;33m         handles = get_handle(\n\u001b[0m\u001b[0;32m    102\u001b[0m             \u001b[0mpath_or_handle\u001b[0m\u001b[1;33m,\u001b[0m \u001b[0mmode\u001b[0m\u001b[1;33m,\u001b[0m \u001b[0mis_text\u001b[0m\u001b[1;33m=\u001b[0m\u001b[1;32mFalse\u001b[0m\u001b[1;33m,\u001b[0m \u001b[0mstorage_options\u001b[0m\u001b[1;33m=\u001b[0m\u001b[0mstorage_options\u001b[0m\u001b[1;33m\u001b[0m\u001b[1;33m\u001b[0m\u001b[0m\n\u001b[0;32m    103\u001b[0m         )\n",
      "\u001b[1;32m~\\.conda\\envs\\daddo_11\\lib\\site-packages\\pandas\\io\\common.py\u001b[0m in \u001b[0;36mget_handle\u001b[1;34m(path_or_buf, mode, encoding, compression, memory_map, is_text, errors, storage_options)\u001b[0m\n\u001b[0;32m    708\u001b[0m         \u001b[1;32melse\u001b[0m\u001b[1;33m:\u001b[0m\u001b[1;33m\u001b[0m\u001b[1;33m\u001b[0m\u001b[0m\n\u001b[0;32m    709\u001b[0m             \u001b[1;31m# Binary mode\u001b[0m\u001b[1;33m\u001b[0m\u001b[1;33m\u001b[0m\u001b[1;33m\u001b[0m\u001b[0m\n\u001b[1;32m--> 710\u001b[1;33m             \u001b[0mhandle\u001b[0m \u001b[1;33m=\u001b[0m \u001b[0mopen\u001b[0m\u001b[1;33m(\u001b[0m\u001b[0mhandle\u001b[0m\u001b[1;33m,\u001b[0m \u001b[0mioargs\u001b[0m\u001b[1;33m.\u001b[0m\u001b[0mmode\u001b[0m\u001b[1;33m)\u001b[0m\u001b[1;33m\u001b[0m\u001b[1;33m\u001b[0m\u001b[0m\n\u001b[0m\u001b[0;32m    711\u001b[0m         \u001b[0mhandles\u001b[0m\u001b[1;33m.\u001b[0m\u001b[0mappend\u001b[0m\u001b[1;33m(\u001b[0m\u001b[0mhandle\u001b[0m\u001b[1;33m)\u001b[0m\u001b[1;33m\u001b[0m\u001b[1;33m\u001b[0m\u001b[0m\n\u001b[0;32m    712\u001b[0m \u001b[1;33m\u001b[0m\u001b[0m\n",
      "\u001b[1;31mFileNotFoundError\u001b[0m: [Errno 2] No such file or directory: 'D:/Datasets/rsna1/gz//train_metadata.parquet.gzip'"
     ]
    }
   ],
   "metadata": {}
  },
  {
   "cell_type": "code",
   "execution_count": 8,
   "source": [
    "train_metadata.to_parquet(f'{meta_data_dir}train_metadata.parquet.gzip', compression='gzip')\r\n",
    "test_metadata.to_parquet(f'{meta_data_dir}test_metadata.parquet.gzip', compression='gzip')"
   ],
   "outputs": [],
   "metadata": {}
  },
  {
   "cell_type": "markdown",
   "source": [
    "### Note: 'ImagePositionPatient_2' is z-axis"
   ],
   "metadata": {}
  },
  {
   "cell_type": "code",
   "execution_count": 9,
   "source": [
    "train_df = pd.read_csv(data_dir + \"stage_2_train.csv\").drop_duplicates()\r\n",
    "train_df['image'] = train_df[\"ID\"].str.slice(stop=12)\r\n",
    "train_df['Diagnosis'] = train_df['ID'].str.slice(start=13)\r\n",
    "train_labels = train_df.pivot(index=\"image\", \r\n",
    "                              columns=\"Diagnosis\", \r\n",
    "                              values=\"Label\")"
   ],
   "outputs": [],
   "metadata": {}
  },
  {
   "cell_type": "code",
   "execution_count": 10,
   "source": [
    "test_df = pd.read_csv(data_dir + \"stage_2_sample_submission.csv\").drop_duplicates()\r\n",
    "test_df['image'] = test_df[\"ID\"].str.slice(stop=12)"
   ],
   "outputs": [],
   "metadata": {}
  },
  {
   "cell_type": "code",
   "execution_count": 11,
   "source": [
    "train = pd.concat([train_labels[\"any\"],\r\n",
    "                   train_labels[\"epidural\"], train_labels[\"intraparenchymal\"],\r\n",
    "                   train_labels[\"intraventricular\"], train_labels[\"subarachnoid\"],\r\n",
    "                   train_labels[\"subdural\"]], 1).reset_index()"
   ],
   "outputs": [
    {
     "output_type": "stream",
     "name": "stderr",
     "text": [
      "<ipython-input-11-6746f4d1ff98>:1: FutureWarning: In a future version of pandas all arguments of concat except for the argument 'objs' will be keyword-only\n",
      "  train = pd.concat([train_labels[\"any\"],\n"
     ]
    }
   ],
   "metadata": {}
  },
  {
   "cell_type": "code",
   "execution_count": 12,
   "source": [
    "test = test_df[\"image\"].drop_duplicates()"
   ],
   "outputs": [],
   "metadata": {}
  },
  {
   "cell_type": "code",
   "execution_count": 13,
   "source": [
    "train_parq = pd.read_parquet(meta_data_dir + \"train_metadata.parquet.gzip\")\r\n",
    "train_parq[\"image\"] = train_parq.index\r\n",
    "test_parq = pd.read_parquet(meta_data_dir + \"test_metadata.parquet.gzip\")\r\n",
    "test_parq[\"image\"] = test_parq.index"
   ],
   "outputs": [],
   "metadata": {}
  },
  {
   "cell_type": "code",
   "execution_count": 14,
   "source": [
    "merged_train = pd.merge(train, train_parq, how=\"inner\", on=\"image\")\r\n",
    "merged_test = pd.merge(test, test_parq, how=\"inner\", on=\"image\")\r\n",
    "merged_train.drop(columns=dropped_cols, inplace=True)\r\n",
    "merged_test.drop(columns=dropped_cols, inplace=True)\r\n",
    "\r\n",
    "del train, test, train_parq, test_parq\r\n",
    "gc.collect()\r\n",
    "\r\n",
    "merged_train = merged_train.groupby([\"StudyInstanceUID\"]) \\\r\n",
    "    .apply(lambda x: x.sort_values([\"ImagePositionPatient_2\"], \r\n",
    "                                   ascending = True))\\\r\n",
    "    .reset_index(drop=True)\r\n",
    "\r\n",
    "merged_test = merged_test.groupby([\"StudyInstanceUID\"]) \\\r\n",
    "    .apply(lambda x: x.sort_values([\"ImagePositionPatient_2\"], \r\n",
    "                                   ascending = True)) \\\r\n",
    "    .reset_index(drop=True)\r\n",
    "\r\n",
    "merged_train.to_csv(data_dir + \"train_metadata.csv\", index=False)\r\n",
    "merged_test.to_csv(data_dir + \"test_metadata.csv\", index=False)"
   ],
   "outputs": [],
   "metadata": {}
  },
  {
   "cell_type": "code",
   "execution_count": 15,
   "source": [
    "merged_train"
   ],
   "outputs": [
    {
     "output_type": "execute_result",
     "data": {
      "text/plain": [
       "               image  any  epidural  intraparenchymal  intraventricular  \\\n",
       "0       ID_3a422b8d7    0         0                 0                 0   \n",
       "1       ID_490b10d5a    0         0                 0                 0   \n",
       "2       ID_be2a0ca1c    0         0                 0                 0   \n",
       "3       ID_af42e31f3    0         0                 0                 0   \n",
       "4       ID_3131664ab    0         0                 0                 0   \n",
       "...              ...  ...       ...               ...               ...   \n",
       "752798  ID_7b0c5edc0    0         0                 0                 0   \n",
       "752799  ID_e8e195f90    0         0                 0                 0   \n",
       "752800  ID_d64ef9ea6    0         0                 0                 0   \n",
       "752801  ID_5838a09b1    0         0                 0                 0   \n",
       "752802  ID_83d5723ef    0         0                 0                 0   \n",
       "\n",
       "        subarachnoid  subdural  ImagePositionPatient_2    PatientID  \\\n",
       "0                  0         0                 28.2225  ID_e0d2de32   \n",
       "1                  0         0                 33.2225  ID_e0d2de32   \n",
       "2                  0         0                 38.2225  ID_e0d2de32   \n",
       "3                  0         0                 43.2225  ID_e0d2de32   \n",
       "4                  0         0                 48.2225  ID_e0d2de32   \n",
       "...              ...       ...                     ...          ...   \n",
       "752798             0         0               1310.0500  ID_822276a2   \n",
       "752799             0         0               1315.0500  ID_822276a2   \n",
       "752800             0         0               1320.0500  ID_822276a2   \n",
       "752801             0         0               1325.0500  ID_822276a2   \n",
       "752802             0         0               1330.0500  ID_822276a2   \n",
       "\n",
       "       StudyInstanceUID  WindowCenter  WindowWidth  \n",
       "0         ID_00047d6503          30.0         80.0  \n",
       "1         ID_00047d6503          30.0         80.0  \n",
       "2         ID_00047d6503          30.0         80.0  \n",
       "3         ID_00047d6503          30.0         80.0  \n",
       "4         ID_00047d6503          30.0         80.0  \n",
       "...                 ...           ...          ...  \n",
       "752798    ID_fffdba8d7b          40.0         80.0  \n",
       "752799    ID_fffdba8d7b          40.0         80.0  \n",
       "752800    ID_fffdba8d7b          40.0         80.0  \n",
       "752801    ID_fffdba8d7b          40.0         80.0  \n",
       "752802    ID_fffdba8d7b          40.0         80.0  \n",
       "\n",
       "[752803 rows x 12 columns]"
      ],
      "text/html": [
       "<div>\n",
       "<style scoped>\n",
       "    .dataframe tbody tr th:only-of-type {\n",
       "        vertical-align: middle;\n",
       "    }\n",
       "\n",
       "    .dataframe tbody tr th {\n",
       "        vertical-align: top;\n",
       "    }\n",
       "\n",
       "    .dataframe thead th {\n",
       "        text-align: right;\n",
       "    }\n",
       "</style>\n",
       "<table border=\"1\" class=\"dataframe\">\n",
       "  <thead>\n",
       "    <tr style=\"text-align: right;\">\n",
       "      <th></th>\n",
       "      <th>image</th>\n",
       "      <th>any</th>\n",
       "      <th>epidural</th>\n",
       "      <th>intraparenchymal</th>\n",
       "      <th>intraventricular</th>\n",
       "      <th>subarachnoid</th>\n",
       "      <th>subdural</th>\n",
       "      <th>ImagePositionPatient_2</th>\n",
       "      <th>PatientID</th>\n",
       "      <th>StudyInstanceUID</th>\n",
       "      <th>WindowCenter</th>\n",
       "      <th>WindowWidth</th>\n",
       "    </tr>\n",
       "  </thead>\n",
       "  <tbody>\n",
       "    <tr>\n",
       "      <th>0</th>\n",
       "      <td>ID_3a422b8d7</td>\n",
       "      <td>0</td>\n",
       "      <td>0</td>\n",
       "      <td>0</td>\n",
       "      <td>0</td>\n",
       "      <td>0</td>\n",
       "      <td>0</td>\n",
       "      <td>28.2225</td>\n",
       "      <td>ID_e0d2de32</td>\n",
       "      <td>ID_00047d6503</td>\n",
       "      <td>30.0</td>\n",
       "      <td>80.0</td>\n",
       "    </tr>\n",
       "    <tr>\n",
       "      <th>1</th>\n",
       "      <td>ID_490b10d5a</td>\n",
       "      <td>0</td>\n",
       "      <td>0</td>\n",
       "      <td>0</td>\n",
       "      <td>0</td>\n",
       "      <td>0</td>\n",
       "      <td>0</td>\n",
       "      <td>33.2225</td>\n",
       "      <td>ID_e0d2de32</td>\n",
       "      <td>ID_00047d6503</td>\n",
       "      <td>30.0</td>\n",
       "      <td>80.0</td>\n",
       "    </tr>\n",
       "    <tr>\n",
       "      <th>2</th>\n",
       "      <td>ID_be2a0ca1c</td>\n",
       "      <td>0</td>\n",
       "      <td>0</td>\n",
       "      <td>0</td>\n",
       "      <td>0</td>\n",
       "      <td>0</td>\n",
       "      <td>0</td>\n",
       "      <td>38.2225</td>\n",
       "      <td>ID_e0d2de32</td>\n",
       "      <td>ID_00047d6503</td>\n",
       "      <td>30.0</td>\n",
       "      <td>80.0</td>\n",
       "    </tr>\n",
       "    <tr>\n",
       "      <th>3</th>\n",
       "      <td>ID_af42e31f3</td>\n",
       "      <td>0</td>\n",
       "      <td>0</td>\n",
       "      <td>0</td>\n",
       "      <td>0</td>\n",
       "      <td>0</td>\n",
       "      <td>0</td>\n",
       "      <td>43.2225</td>\n",
       "      <td>ID_e0d2de32</td>\n",
       "      <td>ID_00047d6503</td>\n",
       "      <td>30.0</td>\n",
       "      <td>80.0</td>\n",
       "    </tr>\n",
       "    <tr>\n",
       "      <th>4</th>\n",
       "      <td>ID_3131664ab</td>\n",
       "      <td>0</td>\n",
       "      <td>0</td>\n",
       "      <td>0</td>\n",
       "      <td>0</td>\n",
       "      <td>0</td>\n",
       "      <td>0</td>\n",
       "      <td>48.2225</td>\n",
       "      <td>ID_e0d2de32</td>\n",
       "      <td>ID_00047d6503</td>\n",
       "      <td>30.0</td>\n",
       "      <td>80.0</td>\n",
       "    </tr>\n",
       "    <tr>\n",
       "      <th>...</th>\n",
       "      <td>...</td>\n",
       "      <td>...</td>\n",
       "      <td>...</td>\n",
       "      <td>...</td>\n",
       "      <td>...</td>\n",
       "      <td>...</td>\n",
       "      <td>...</td>\n",
       "      <td>...</td>\n",
       "      <td>...</td>\n",
       "      <td>...</td>\n",
       "      <td>...</td>\n",
       "      <td>...</td>\n",
       "    </tr>\n",
       "    <tr>\n",
       "      <th>752798</th>\n",
       "      <td>ID_7b0c5edc0</td>\n",
       "      <td>0</td>\n",
       "      <td>0</td>\n",
       "      <td>0</td>\n",
       "      <td>0</td>\n",
       "      <td>0</td>\n",
       "      <td>0</td>\n",
       "      <td>1310.0500</td>\n",
       "      <td>ID_822276a2</td>\n",
       "      <td>ID_fffdba8d7b</td>\n",
       "      <td>40.0</td>\n",
       "      <td>80.0</td>\n",
       "    </tr>\n",
       "    <tr>\n",
       "      <th>752799</th>\n",
       "      <td>ID_e8e195f90</td>\n",
       "      <td>0</td>\n",
       "      <td>0</td>\n",
       "      <td>0</td>\n",
       "      <td>0</td>\n",
       "      <td>0</td>\n",
       "      <td>0</td>\n",
       "      <td>1315.0500</td>\n",
       "      <td>ID_822276a2</td>\n",
       "      <td>ID_fffdba8d7b</td>\n",
       "      <td>40.0</td>\n",
       "      <td>80.0</td>\n",
       "    </tr>\n",
       "    <tr>\n",
       "      <th>752800</th>\n",
       "      <td>ID_d64ef9ea6</td>\n",
       "      <td>0</td>\n",
       "      <td>0</td>\n",
       "      <td>0</td>\n",
       "      <td>0</td>\n",
       "      <td>0</td>\n",
       "      <td>0</td>\n",
       "      <td>1320.0500</td>\n",
       "      <td>ID_822276a2</td>\n",
       "      <td>ID_fffdba8d7b</td>\n",
       "      <td>40.0</td>\n",
       "      <td>80.0</td>\n",
       "    </tr>\n",
       "    <tr>\n",
       "      <th>752801</th>\n",
       "      <td>ID_5838a09b1</td>\n",
       "      <td>0</td>\n",
       "      <td>0</td>\n",
       "      <td>0</td>\n",
       "      <td>0</td>\n",
       "      <td>0</td>\n",
       "      <td>0</td>\n",
       "      <td>1325.0500</td>\n",
       "      <td>ID_822276a2</td>\n",
       "      <td>ID_fffdba8d7b</td>\n",
       "      <td>40.0</td>\n",
       "      <td>80.0</td>\n",
       "    </tr>\n",
       "    <tr>\n",
       "      <th>752802</th>\n",
       "      <td>ID_83d5723ef</td>\n",
       "      <td>0</td>\n",
       "      <td>0</td>\n",
       "      <td>0</td>\n",
       "      <td>0</td>\n",
       "      <td>0</td>\n",
       "      <td>0</td>\n",
       "      <td>1330.0500</td>\n",
       "      <td>ID_822276a2</td>\n",
       "      <td>ID_fffdba8d7b</td>\n",
       "      <td>40.0</td>\n",
       "      <td>80.0</td>\n",
       "    </tr>\n",
       "  </tbody>\n",
       "</table>\n",
       "<p>752803 rows × 12 columns</p>\n",
       "</div>"
      ]
     },
     "metadata": {},
     "execution_count": 15
    }
   ],
   "metadata": {}
  },
  {
   "cell_type": "markdown",
   "source": [
    "## Split by StudyInstanceUID"
   ],
   "metadata": {}
  },
  {
   "cell_type": "code",
   "execution_count": 16,
   "source": [
    "study_id_counts = merged_train.groupby([\"StudyInstanceUID\"])[\"any\"].sum()\r\n",
    "study_ids, slice_counts = study_id_counts.index.values, study_id_counts.values"
   ],
   "outputs": [],
   "metadata": {}
  },
  {
   "cell_type": "code",
   "execution_count": null,
   "source": [],
   "outputs": [],
   "metadata": {}
  },
  {
   "cell_type": "code",
   "execution_count": 17,
   "source": [
    "binarized_slice_counts = slice_counts > 0."
   ],
   "outputs": [],
   "metadata": {}
  },
  {
   "cell_type": "code",
   "execution_count": 19,
   "source": [
    "skf = StratifiedKFold(n_splits=5, random_state=2709,shuffle=True)"
   ],
   "outputs": [],
   "metadata": {}
  },
  {
   "cell_type": "code",
   "execution_count": 20,
   "source": [
    "folds = {}\r\n",
    "for i, (train_idx, val_idx) in enumerate(skf.split(study_ids, binarized_slice_counts)):\r\n",
    "    folds[i] = (study_ids[train_idx], study_ids[val_idx])\r\n",
    "\r\n",
    "    np.save(data_dir + \"train_fold\" + str(i) + \".npy\", study_ids[train_idx])\r\n",
    "    np.save(data_dir + \"valid_fold\" + str(i) + \".npy\", study_ids[val_idx])"
   ],
   "outputs": [],
   "metadata": {}
  },
  {
   "cell_type": "code",
   "execution_count": 21,
   "source": [
    "for fold in range(5):\r\n",
    "    print(\"\\n================FOLD {}================\".format(str(fold)))\r\n",
    "    \r\n",
    "    for col in [\r\n",
    "        \"any\", \r\n",
    "        \"intraparenchymal\", \"intraventricular\", \r\n",
    "        \"subarachnoid\", \"subdural\", \"epidural\"\r\n",
    "    ]:\r\n",
    "        train_df = merged_train[merged_train[\"StudyInstanceUID\"].isin(folds[fold][0])]\r\n",
    "        num_train_strat_sid = train_df[col].sum()\r\n",
    "        '''\r\n",
    "        print(col,\r\n",
    "              \"train samples: {:.1f} ===\".format(num_train_strat_sid),\r\n",
    "              \"alpha: {:.3f}\".format(compute_alpha(\r\n",
    "                  num_train_strat_sid / train_df['epidural'].sum())\r\n",
    "                                    )\r\n",
    "             )'''"
   ],
   "outputs": [
    {
     "output_type": "stream",
     "name": "stdout",
     "text": [
      "\n",
      "================FOLD 0================\n",
      "\n",
      "================FOLD 1================\n",
      "\n",
      "================FOLD 2================\n",
      "\n",
      "================FOLD 3================\n",
      "\n",
      "================FOLD 4================\n"
     ]
    }
   ],
   "metadata": {}
  },
  {
   "cell_type": "markdown",
   "source": [
    "## Split by PatientID"
   ],
   "metadata": {}
  },
  {
   "cell_type": "code",
   "execution_count": 22,
   "source": [
    "patient_id_counts = merged_train.groupby([\"PatientID\"])[\"any\"].sum()\r\n",
    "patient_ids, slice_counts = patient_id_counts.index.values, patient_id_counts.values"
   ],
   "outputs": [],
   "metadata": {}
  },
  {
   "cell_type": "code",
   "execution_count": 23,
   "source": [
    "patient_ids"
   ],
   "outputs": [
    {
     "output_type": "execute_result",
     "data": {
      "text/plain": [
       "array(['ID_0002cd41', 'ID_00054f3f', 'ID_0006d192', ..., 'ID_fff140ff',\n",
       "       'ID_fff502d5', 'ID_fffc2bd6'], dtype=object)"
      ]
     },
     "metadata": {},
     "execution_count": 23
    }
   ],
   "metadata": {}
  },
  {
   "cell_type": "code",
   "execution_count": 24,
   "source": [
    "slice_counts"
   ],
   "outputs": [
    {
     "output_type": "execute_result",
     "data": {
      "text/plain": [
       "array([ 0,  0,  0, ...,  6, 11,  0], dtype=int64)"
      ]
     },
     "metadata": {},
     "execution_count": 24
    }
   ],
   "metadata": {}
  },
  {
   "cell_type": "code",
   "execution_count": 25,
   "source": [
    "binarized_slice_counts = slice_counts > 0."
   ],
   "outputs": [],
   "metadata": {}
  },
  {
   "cell_type": "code",
   "execution_count": 26,
   "source": [
    "binarized_slice_counts.shape"
   ],
   "outputs": [
    {
     "output_type": "execute_result",
     "data": {
      "text/plain": [
       "(18938,)"
      ]
     },
     "metadata": {},
     "execution_count": 26
    }
   ],
   "metadata": {}
  },
  {
   "cell_type": "code",
   "execution_count": 27,
   "source": [
    "patient_ids.shape"
   ],
   "outputs": [
    {
     "output_type": "execute_result",
     "data": {
      "text/plain": [
       "(18938,)"
      ]
     },
     "metadata": {},
     "execution_count": 27
    }
   ],
   "metadata": {}
  },
  {
   "cell_type": "code",
   "execution_count": 17,
   "source": [
    "import pandas as pd\r\n",
    "import numpy as np\r\n",
    "#data = np.load(\"D:/Datasets/rsna/train_patients_fold0.npy\", allow_pickle=True)\r\n",
    "pdf = pd.read_csv(\"D:/Datasets/rsna/train_metadata.csv\")\r\n",
    "len(pdf[\"StudyInstanceUID\"].unique())"
   ],
   "outputs": [
    {
     "output_type": "execute_result",
     "data": {
      "text/plain": [
       "21744"
      ]
     },
     "metadata": {},
     "execution_count": 17
    }
   ],
   "metadata": {}
  },
  {
   "cell_type": "code",
   "execution_count": 28,
   "source": [
    "np.sum(binarized_slice_counts) / 17079"
   ],
   "outputs": [
    {
     "output_type": "execute_result",
     "data": {
      "text/plain": [
       "0.4480355992739622"
      ]
     },
     "metadata": {},
     "execution_count": 28
    }
   ],
   "metadata": {}
  },
  {
   "cell_type": "code",
   "execution_count": 29,
   "source": [
    "skf = StratifiedKFold(n_splits=5, random_state=2709,shuffle=True)\r\n",
    "\r\n",
    "folds = {}\r\n",
    "for i, (train_idx, val_idx) in enumerate(skf.split(patient_ids, binarized_slice_counts)):\r\n",
    "    folds[i] = (patient_ids[train_idx], patient_ids[val_idx])\r\n",
    "    np.save(data_dir + \"train_patients_fold\" + str(i) + \".npy\", patient_ids[train_idx])\r\n",
    "    np.save(data_dir + \"valid_patients_fold\" + str(i) + \".npy\", patient_ids[val_idx])"
   ],
   "outputs": [],
   "metadata": {}
  },
  {
   "cell_type": "code",
   "execution_count": 30,
   "source": [
    "for fold in range(5):\r\n",
    "    print(\"\\n================FOLD {}================\".format(str(fold)))\r\n",
    "    \r\n",
    "    for col in [\r\n",
    "        \"any\", \r\n",
    "        \"intraparenchymal\", \"intraventricular\", \r\n",
    "        \"subarachnoid\", \"subdural\", \"epidural\"\r\n",
    "    ]:\r\n",
    "        train_df = merged_train[merged_train[\"PatientID\"].isin(folds[fold][0])]\r\n",
    "        num_train_strat_sid = train_df[col].sum()\r\n",
    "        print(col,\r\n",
    "              \"train samples: {:.1f} ===\".format(num_train_strat_sid),\r\n",
    "             )"
   ],
   "outputs": [
    {
     "output_type": "stream",
     "name": "stdout",
     "text": [
      "\n",
      "================FOLD 0================\n",
      "any train samples: 85704.0 ===\n",
      "intraparenchymal train samples: 28666.0 ===\n",
      "intraventricular train samples: 21108.0 ===\n",
      "subarachnoid train samples: 27832.0 ===\n",
      "subdural train samples: 37234.0 ===\n",
      "epidural train samples: 2532.0 ===\n",
      "\n",
      "================FOLD 1================\n",
      "any train samples: 86417.0 ===\n",
      "intraparenchymal train samples: 28671.0 ===\n",
      "intraventricular train samples: 20919.0 ===\n",
      "subarachnoid train samples: 28654.0 ===\n",
      "subdural train samples: 37891.0 ===\n",
      "epidural train samples: 2479.0 ===\n",
      "\n",
      "================FOLD 2================\n",
      "any train samples: 86339.0 ===\n",
      "intraparenchymal train samples: 29199.0 ===\n",
      "intraventricular train samples: 20843.0 ===\n",
      "subarachnoid train samples: 28484.0 ===\n",
      "subdural train samples: 37769.0 ===\n",
      "epidural train samples: 2528.0 ===\n",
      "\n",
      "================FOLD 3================\n",
      "any train samples: 86735.0 ===\n",
      "intraparenchymal train samples: 29082.0 ===\n",
      "intraventricular train samples: 21161.0 ===\n",
      "subarachnoid train samples: 28714.0 ===\n",
      "subdural train samples: 37848.0 ===\n",
      "epidural train samples: 2521.0 ===\n",
      "\n",
      "================FOLD 4================\n",
      "any train samples: 86537.0 ===\n",
      "intraparenchymal train samples: 28854.0 ===\n",
      "intraventricular train samples: 20789.0 ===\n",
      "subarachnoid train samples: 29016.0 ===\n",
      "subdural train samples: 37922.0 ===\n",
      "epidural train samples: 2520.0 ===\n"
     ]
    }
   ],
   "metadata": {}
  },
  {
   "cell_type": "code",
   "execution_count": 31,
   "source": [
    "train_meta = pd.read_csv(os.path.join(data_dir,\"train_metadata.csv\")) \r\n",
    "#train_meta = pd.read_csv(\"/mnt/DATA/rsna/train_metadata.csv\")\r\n",
    "test_meta = pd.read_csv(os.path.join(data_dir,\"test_metadata.csv\"))\r\n",
    "# check patient id overlap\r\n",
    "print(np.intersect1d(train_meta[\"PatientID\"].unique(),\r\n",
    "               test_meta[\"PatientID\"].unique()).shape)\r\n",
    "# check train patient id\r\n",
    "print(train_meta[\"PatientID\"].unique().shape)\r\n",
    "# check test patient id\r\n",
    "print(test_meta[\"PatientID\"].unique().shape)"
   ],
   "outputs": [
    {
     "output_type": "stream",
     "name": "stdout",
     "text": [
      "(0,)\n",
      "(18938,)\n",
      "(3518,)\n"
     ]
    }
   ],
   "metadata": {}
  },
  {
   "cell_type": "code",
   "execution_count": 32,
   "source": [
    "overlap_patient_ids = np.intersect1d(train_meta[\"PatientID\"].unique(),\r\n",
    "                                     test_meta[\"PatientID\"].unique())"
   ],
   "outputs": [],
   "metadata": {}
  },
  {
   "cell_type": "code",
   "execution_count": 33,
   "source": [
    "test_meta[test_meta[\"PatientID\"].isin(overlap_patient_ids)]"
   ],
   "outputs": [
    {
     "output_type": "execute_result",
     "data": {
      "text/plain": [
       "Empty DataFrame\n",
       "Columns: [image, ImagePositionPatient_2, PatientID, StudyInstanceUID, WindowCenter, WindowWidth]\n",
       "Index: []"
      ],
      "text/html": [
       "<div>\n",
       "<style scoped>\n",
       "    .dataframe tbody tr th:only-of-type {\n",
       "        vertical-align: middle;\n",
       "    }\n",
       "\n",
       "    .dataframe tbody tr th {\n",
       "        vertical-align: top;\n",
       "    }\n",
       "\n",
       "    .dataframe thead th {\n",
       "        text-align: right;\n",
       "    }\n",
       "</style>\n",
       "<table border=\"1\" class=\"dataframe\">\n",
       "  <thead>\n",
       "    <tr style=\"text-align: right;\">\n",
       "      <th></th>\n",
       "      <th>image</th>\n",
       "      <th>ImagePositionPatient_2</th>\n",
       "      <th>PatientID</th>\n",
       "      <th>StudyInstanceUID</th>\n",
       "      <th>WindowCenter</th>\n",
       "      <th>WindowWidth</th>\n",
       "    </tr>\n",
       "  </thead>\n",
       "  <tbody>\n",
       "  </tbody>\n",
       "</table>\n",
       "</div>"
      ]
     },
     "metadata": {},
     "execution_count": 33
    }
   ],
   "metadata": {}
  },
  {
   "cell_type": "code",
   "execution_count": null,
   "source": [],
   "outputs": [],
   "metadata": {}
  }
 ],
 "metadata": {
  "kernelspec": {
   "name": "python3",
   "display_name": "Python 3.9.5 64-bit ('daddo_11': conda)"
  },
  "language_info": {
   "codemirror_mode": {
    "name": "ipython",
    "version": 3
   },
   "file_extension": ".py",
   "mimetype": "text/x-python",
   "name": "python",
   "nbconvert_exporter": "python",
   "pygments_lexer": "ipython3",
   "version": "3.9.5"
  },
  "interpreter": {
   "hash": "f2155215237368f5d2b4ff32ebc0bd7bd0540ee110c8f3750b647707c6d78ccf"
  }
 },
 "nbformat": 4,
 "nbformat_minor": 2
}